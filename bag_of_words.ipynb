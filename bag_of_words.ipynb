{
 "cells": [
  {
   "cell_type": "markdown",
   "id": "62636b06",
   "metadata": {},
   "source": [
    "**Bag of Words (BoW)**"
   ]
  },
  {
   "cell_type": "markdown",
   "id": "5470f80f",
   "metadata": {},
   "source": [
    "**Concept:**\n",
    "* A document is represented as a bag (multiset) of its words, ignoring grammar and word order.\n",
    "\n",
    "* It only keeps word frequency (how many times each word appears).\n",
    "\n",
    "* Useful for machine learning models that need numerical input.\n",
    "\n"
   ]
  },
  {
   "cell_type": "markdown",
   "id": "15f9acde",
   "metadata": {},
   "source": [
    "**Example**\n",
    "\n",
    "\n",
    "Let’s say we have 2 sentences:\n",
    "\n",
    "1. \"I love data\"\n",
    "\n",
    "2. \"I love machine learning\"\n",
    "\n",
    "Step-by-step:\n",
    "\n",
    "Build Vocabulary: Unique words from both sentences\n",
    "➤ [\"I\", \"love\", \"data\", \"machine\", \"learning\"]\n",
    "\n",
    "Vectorize: Count each word per sentence\n",
    "\n",
    "\n",
    "| Sentence                      | I | love | data | machine | learning |\n",
    "|------------------------------|---|------|------|---------|----------|\n",
    "| \"I love data\"                | 1 | 1    | 1    | 0       | 0        |\n",
    "| \"I love machine learning\"    | 1 | 1    | 0    | 1       | 1        |\n"
   ]
  },
  {
   "cell_type": "code",
   "execution_count": 1,
   "id": "d10c2638",
   "metadata": {},
   "outputs": [
    {
     "name": "stdout",
     "output_type": "stream",
     "text": [
      "['and' 'document' 'first' 'is' 'one' 'second' 'the' 'third' 'this']\n"
     ]
    }
   ],
   "source": [
    "from sklearn.feature_extraction.text import CountVectorizer\n",
    "\n",
    "corpus = [\n",
    "    'This this this  is the first document.',\n",
    "    'This document is the second document.',\n",
    "    'And this is the third one.',\n",
    "    'Is this the first document?',\n",
    "]\n",
    "\n",
    "vectorizer = CountVectorizer()\n",
    "\n",
    "X = vectorizer.fit_transform(corpus)\n",
    "\n",
    "\n",
    "feature_names= vectorizer.get_feature_names_out()\n",
    "print(feature_names)\n"
   ]
  },
  {
   "cell_type": "code",
   "execution_count": 2,
   "id": "f32ce93d",
   "metadata": {},
   "outputs": [],
   "source": [
    "dense_matrix = X.toarray()"
   ]
  },
  {
   "cell_type": "code",
   "execution_count": 3,
   "id": "c785b412",
   "metadata": {},
   "outputs": [
    {
     "name": "stdout",
     "output_type": "stream",
     "text": [
      "   and  document  first  is  one  second  the  third  this\n",
      "0    0         1      1   1    0       0    1      0     3\n",
      "1    0         2      0   1    0       1    1      0     1\n",
      "2    1         0      0   1    1       0    1      1     1\n",
      "3    0         1      1   1    0       0    1      0     1\n"
     ]
    }
   ],
   "source": [
    "import pandas as pd\n",
    "df = pd.DataFrame(dense_matrix, columns=feature_names)\n",
    "print(df)"
   ]
  },
  {
   "cell_type": "code",
   "execution_count": null,
   "id": "8fef7101",
   "metadata": {},
   "outputs": [],
   "source": []
  },
  {
   "cell_type": "markdown",
   "id": "ea32f003",
   "metadata": {},
   "source": [
    "**Scratch**"
   ]
  },
  {
   "cell_type": "code",
   "execution_count": 4,
   "id": "48349037",
   "metadata": {},
   "outputs": [],
   "source": [
    "corpus = [\n",
    "    'This this this  is the first document',\n",
    "    'This document is the second document',\n",
    "    'And this is the third one',\n",
    "    'Is this the first document',\n",
    "]"
   ]
  },
  {
   "cell_type": "code",
   "execution_count": 5,
   "id": "e87a0411",
   "metadata": {},
   "outputs": [],
   "source": [
    "#tokenizer\n",
    "\n",
    "def tocknizer(text):\n",
    "    return text.lower().split()"
   ]
  },
  {
   "cell_type": "code",
   "execution_count": 6,
   "id": "b861961c",
   "metadata": {},
   "outputs": [
    {
     "name": "stdout",
     "output_type": "stream",
     "text": [
      "Vocabulary: ['and', 'document', 'first', 'is', 'one', 'second', 'the', 'third', 'this']\n"
     ]
    }
   ],
   "source": [
    "#vocabulary\n",
    "vocab = []\n",
    "for i in corpus:\n",
    "    vocab.extend(tocknizer(i))\n",
    "\n",
    "vocab = sorted(set(vocab))  \n",
    "print(\"Vocabulary:\", vocab)\n"
   ]
  },
  {
   "cell_type": "code",
   "execution_count": 7,
   "id": "1de65964",
   "metadata": {},
   "outputs": [],
   "source": [
    "emb = []\n"
   ]
  },
  {
   "cell_type": "code",
   "execution_count": 8,
   "id": "8a3ca2a1",
   "metadata": {},
   "outputs": [
    {
     "name": "stdout",
     "output_type": "stream",
     "text": [
      "{'and': 0, 'document': 1, 'first': 1, 'is': 1, 'one': 0, 'second': 0, 'the': 1, 'third': 0, 'this': 3}\n",
      "{'and': 0, 'document': 2, 'first': 0, 'is': 1, 'one': 0, 'second': 1, 'the': 1, 'third': 0, 'this': 1}\n",
      "{'and': 1, 'document': 0, 'first': 0, 'is': 1, 'one': 1, 'second': 0, 'the': 1, 'third': 1, 'this': 1}\n",
      "{'and': 0, 'document': 1, 'first': 1, 'is': 1, 'one': 0, 'second': 0, 'the': 1, 'third': 0, 'this': 1}\n"
     ]
    }
   ],
   "source": [
    "for i in corpus:\n",
    "    txt = tocknizer(i)\n",
    "    freq = {word: 0 for word in vocab} # assigned 0 for each key.\n",
    "    # print(freq)\n",
    "\n",
    "    for word in txt:\n",
    "        if word in freq:\n",
    "            freq[word] += 1\n",
    "    print(freq)\n",
    "\n",
    "    emb.append(freq)"
   ]
  },
  {
   "cell_type": "code",
   "execution_count": 9,
   "id": "872cf76f",
   "metadata": {},
   "outputs": [
    {
     "data": {
      "text/plain": [
       "[{'and': 0,\n",
       "  'document': 1,\n",
       "  'first': 1,\n",
       "  'is': 1,\n",
       "  'one': 0,\n",
       "  'second': 0,\n",
       "  'the': 1,\n",
       "  'third': 0,\n",
       "  'this': 3},\n",
       " {'and': 0,\n",
       "  'document': 2,\n",
       "  'first': 0,\n",
       "  'is': 1,\n",
       "  'one': 0,\n",
       "  'second': 1,\n",
       "  'the': 1,\n",
       "  'third': 0,\n",
       "  'this': 1},\n",
       " {'and': 1,\n",
       "  'document': 0,\n",
       "  'first': 0,\n",
       "  'is': 1,\n",
       "  'one': 1,\n",
       "  'second': 0,\n",
       "  'the': 1,\n",
       "  'third': 1,\n",
       "  'this': 1},\n",
       " {'and': 0,\n",
       "  'document': 1,\n",
       "  'first': 1,\n",
       "  'is': 1,\n",
       "  'one': 0,\n",
       "  'second': 0,\n",
       "  'the': 1,\n",
       "  'third': 0,\n",
       "  'this': 1}]"
      ]
     },
     "execution_count": 9,
     "metadata": {},
     "output_type": "execute_result"
    }
   ],
   "source": [
    "emb"
   ]
  },
  {
   "cell_type": "code",
   "execution_count": 10,
   "id": "99a46187",
   "metadata": {},
   "outputs": [
    {
     "name": "stdout",
     "output_type": "stream",
     "text": [
      "\n",
      "Bag of Words Embedding:\n",
      "\n",
      "   and  document  first  is  one  second  the  third  this\n",
      "0    0         1      1   1    0       0    1      0     3\n",
      "1    0         2      0   1    0       1    1      0     1\n",
      "2    1         0      0   1    1       0    1      1     1\n",
      "3    0         1      1   1    0       0    1      0     1\n"
     ]
    }
   ],
   "source": [
    "import pandas as pd\n",
    "df = pd.DataFrame(emb)\n",
    "print(\"\\nBag of Words Embedding:\\n\")\n",
    "print(df)\n"
   ]
  },
  {
   "cell_type": "code",
   "execution_count": 11,
   "id": "449c83ee",
   "metadata": {},
   "outputs": [],
   "source": [
    "corpus = [\n",
    "    'This this this  is the first document',\n",
    "    'This document is the second document',\n",
    "    'And this is the third one',\n",
    "    'Is this the first document',\n",
    "]\n",
    "\n",
    "\n"
   ]
  },
  {
   "cell_type": "code",
   "execution_count": 12,
   "id": "c4170a6b",
   "metadata": {},
   "outputs": [],
   "source": [
    "import pandas as pd\n",
    "\n",
    "def BOW(corpus):\n",
    "\n",
    "\n",
    "    def tocknizer(text):\n",
    "        return text.lower().split()\n",
    "    \n",
    "    vocab = []\n",
    "    for i in corpus:\n",
    "        vocab.extend(tocknizer(i))\n",
    "\n",
    "    vocab = sorted(set(vocab))  \n",
    "    # print(\"Vocabulary:\", vocab)\n",
    "\n",
    "    emb = []\n",
    "\n",
    "\n",
    "    for i in corpus:\n",
    "        txt = tocknizer(i)\n",
    "        freq = {word: 0 for word in vocab} # assigned 0 for each key.\n",
    "        # print(freq)\n",
    "\n",
    "        for word in txt:\n",
    "            # if word in freq:\n",
    "            freq[word] += 1\n",
    "        # print(freq)\n",
    "\n",
    "        emb.append(freq)\n",
    "\n",
    "    df = pd.DataFrame(emb)\n",
    "    # print(\"\\nBag of Words Embedding:\\n\")\n",
    "    # print(df)\n",
    "    return df\n",
    "\n",
    "\n",
    "\n"
   ]
  },
  {
   "cell_type": "code",
   "execution_count": 13,
   "id": "769b8152",
   "metadata": {},
   "outputs": [
    {
     "data": {
      "text/html": [
       "<div>\n",
       "<style scoped>\n",
       "    .dataframe tbody tr th:only-of-type {\n",
       "        vertical-align: middle;\n",
       "    }\n",
       "\n",
       "    .dataframe tbody tr th {\n",
       "        vertical-align: top;\n",
       "    }\n",
       "\n",
       "    .dataframe thead th {\n",
       "        text-align: right;\n",
       "    }\n",
       "</style>\n",
       "<table border=\"1\" class=\"dataframe\">\n",
       "  <thead>\n",
       "    <tr style=\"text-align: right;\">\n",
       "      <th></th>\n",
       "      <th>and</th>\n",
       "      <th>document</th>\n",
       "      <th>first</th>\n",
       "      <th>is</th>\n",
       "      <th>one</th>\n",
       "      <th>second</th>\n",
       "      <th>the</th>\n",
       "      <th>third</th>\n",
       "      <th>this</th>\n",
       "    </tr>\n",
       "  </thead>\n",
       "  <tbody>\n",
       "    <tr>\n",
       "      <th>0</th>\n",
       "      <td>0</td>\n",
       "      <td>1</td>\n",
       "      <td>1</td>\n",
       "      <td>1</td>\n",
       "      <td>0</td>\n",
       "      <td>0</td>\n",
       "      <td>1</td>\n",
       "      <td>0</td>\n",
       "      <td>3</td>\n",
       "    </tr>\n",
       "    <tr>\n",
       "      <th>1</th>\n",
       "      <td>0</td>\n",
       "      <td>2</td>\n",
       "      <td>0</td>\n",
       "      <td>1</td>\n",
       "      <td>0</td>\n",
       "      <td>1</td>\n",
       "      <td>1</td>\n",
       "      <td>0</td>\n",
       "      <td>1</td>\n",
       "    </tr>\n",
       "    <tr>\n",
       "      <th>2</th>\n",
       "      <td>1</td>\n",
       "      <td>0</td>\n",
       "      <td>0</td>\n",
       "      <td>1</td>\n",
       "      <td>1</td>\n",
       "      <td>0</td>\n",
       "      <td>1</td>\n",
       "      <td>1</td>\n",
       "      <td>1</td>\n",
       "    </tr>\n",
       "    <tr>\n",
       "      <th>3</th>\n",
       "      <td>0</td>\n",
       "      <td>1</td>\n",
       "      <td>1</td>\n",
       "      <td>1</td>\n",
       "      <td>0</td>\n",
       "      <td>0</td>\n",
       "      <td>1</td>\n",
       "      <td>0</td>\n",
       "      <td>1</td>\n",
       "    </tr>\n",
       "  </tbody>\n",
       "</table>\n",
       "</div>"
      ],
      "text/plain": [
       "   and  document  first  is  one  second  the  third  this\n",
       "0    0         1      1   1    0       0    1      0     3\n",
       "1    0         2      0   1    0       1    1      0     1\n",
       "2    1         0      0   1    1       0    1      1     1\n",
       "3    0         1      1   1    0       0    1      0     1"
      ]
     },
     "execution_count": 13,
     "metadata": {},
     "output_type": "execute_result"
    }
   ],
   "source": [
    "BOW(corpus)"
   ]
  },
  {
   "cell_type": "code",
   "execution_count": null,
   "id": "d8e36152",
   "metadata": {},
   "outputs": [],
   "source": []
  }
 ],
 "metadata": {
  "kernelspec": {
   "display_name": "myenv",
   "language": "python",
   "name": "python3"
  },
  "language_info": {
   "codemirror_mode": {
    "name": "ipython",
    "version": 3
   },
   "file_extension": ".py",
   "mimetype": "text/x-python",
   "name": "python",
   "nbconvert_exporter": "python",
   "pygments_lexer": "ipython3",
   "version": "3.12.3"
  }
 },
 "nbformat": 4,
 "nbformat_minor": 5
}
