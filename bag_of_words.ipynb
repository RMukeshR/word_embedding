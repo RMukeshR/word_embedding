{
 "cells": [
  {
   "cell_type": "markdown",
   "id": "62636b06",
   "metadata": {},
   "source": [
    "**Bag of Words (BoW)**"
   ]
  },
  {
   "cell_type": "markdown",
   "id": "5470f80f",
   "metadata": {},
   "source": [
    "**Concept:**\n",
    "* A document is represented as a bag (multiset) of its words, ignoring grammar and word order.\n",
    "\n",
    "* It only keeps word frequency (how many times each word appears).\n",
    "\n",
    "* Useful for machine learning models that need numerical input.\n",
    "\n"
   ]
  },
  {
   "cell_type": "markdown",
   "id": "15f9acde",
   "metadata": {},
   "source": [
    "**Example**\n",
    "\n",
    "\n",
    "Let’s say we have 2 sentences:\n",
    "\n",
    "1. \"I love data\"\n",
    "\n",
    "2. \"I love machine learning\"\n",
    "\n",
    "Step-by-step:\n",
    "\n",
    "Build Vocabulary: Unique words from both sentences\n",
    "➤ [\"I\", \"love\", \"data\", \"machine\", \"learning\"]\n",
    "\n",
    "Vectorize: Count each word per sentence\n",
    "\n",
    "\n",
    "| Sentence                      | I | love | data | machine | learning |\n",
    "|------------------------------|---|------|------|---------|----------|\n",
    "| \"I love data\"                | 1 | 1    | 1    | 0       | 0        |\n",
    "| \"I love machine learning\"    | 1 | 1    | 0    | 1       | 1        |\n"
   ]
  },
  {
   "cell_type": "code",
   "execution_count": null,
   "id": "d10c2638",
   "metadata": {},
   "outputs": [],
   "source": [
    "from sklearn.feature_extraction.text import CountVectorizer\n",
    "\n",
    "corpus = [\n",
    "    'This this this  is the first document.',\n",
    "    'This document is the second document.',\n",
    "    'And this is the third one.',\n",
    "    'Is this the first document?',\n",
    "]\n",
    "\n",
    "vectorizer = CountVectorizer()\n",
    "\n",
    "X = vectorizer.fit_transform(corpus)\n",
    "\n",
    "\n",
    "print(vectorizer.get_feature_names_out())\n"
   ]
  },
  {
   "cell_type": "code",
   "execution_count": null,
   "id": "f32ce93d",
   "metadata": {},
   "outputs": [],
   "source": [
    "X.toarray()"
   ]
  },
  {
   "cell_type": "markdown",
   "id": "ea32f003",
   "metadata": {},
   "source": [
    "**Scratch**"
   ]
  },
  {
   "cell_type": "code",
   "execution_count": 23,
   "id": "48349037",
   "metadata": {},
   "outputs": [],
   "source": [
    "corpus = [\n",
    "    'This this this  is the first document',\n",
    "    'This document is the second document',\n",
    "    'And this is the third one',\n",
    "    'Is this the first document',\n",
    "]"
   ]
  },
  {
   "cell_type": "code",
   "execution_count": 24,
   "id": "e87a0411",
   "metadata": {},
   "outputs": [],
   "source": [
    "#tokenizer\n",
    "\n",
    "def tocknizer(text):\n",
    "    return text.lower().split()"
   ]
  },
  {
   "cell_type": "code",
   "execution_count": 25,
   "id": "b861961c",
   "metadata": {},
   "outputs": [
    {
     "name": "stdout",
     "output_type": "stream",
     "text": [
      "Vocabulary: ['and', 'document', 'first', 'is', 'one', 'second', 'the', 'third', 'this']\n"
     ]
    }
   ],
   "source": [
    "#vocabulary\n",
    "vocab = []\n",
    "for i in corpus:\n",
    "    vocab.extend(tocknizer(i))\n",
    "\n",
    "vocab = sorted(set(vocab))  \n",
    "print(\"Vocabulary:\", vocab)\n"
   ]
  },
  {
   "cell_type": "code",
   "execution_count": 26,
   "id": "1de65964",
   "metadata": {},
   "outputs": [],
   "source": [
    "emb = []\n"
   ]
  },
  {
   "cell_type": "code",
   "execution_count": 27,
   "id": "8a3ca2a1",
   "metadata": {},
   "outputs": [
    {
     "name": "stdout",
     "output_type": "stream",
     "text": [
      "{'and': 0, 'document': 0, 'first': 0, 'is': 0, 'one': 0, 'second': 0, 'the': 0, 'third': 0, 'this': 0}\n",
      "{'and': 0, 'document': 1, 'first': 1, 'is': 1, 'one': 0, 'second': 0, 'the': 1, 'third': 0, 'this': 3}\n",
      "{'and': 0, 'document': 0, 'first': 0, 'is': 0, 'one': 0, 'second': 0, 'the': 0, 'third': 0, 'this': 0}\n",
      "{'and': 0, 'document': 2, 'first': 0, 'is': 1, 'one': 0, 'second': 1, 'the': 1, 'third': 0, 'this': 1}\n",
      "{'and': 0, 'document': 0, 'first': 0, 'is': 0, 'one': 0, 'second': 0, 'the': 0, 'third': 0, 'this': 0}\n",
      "{'and': 1, 'document': 0, 'first': 0, 'is': 1, 'one': 1, 'second': 0, 'the': 1, 'third': 1, 'this': 1}\n",
      "{'and': 0, 'document': 0, 'first': 0, 'is': 0, 'one': 0, 'second': 0, 'the': 0, 'third': 0, 'this': 0}\n",
      "{'and': 0, 'document': 1, 'first': 1, 'is': 1, 'one': 0, 'second': 0, 'the': 1, 'third': 0, 'this': 1}\n"
     ]
    }
   ],
   "source": [
    "for i in corpus:\n",
    "    txt = tocknizer(i)\n",
    "    freq = {word: 0 for word in vocab} # assigned 0 for each key.\n",
    "    print(freq)\n",
    "\n",
    "    for word in txt:\n",
    "        if word in freq:\n",
    "            freq[word] += 1\n",
    "    print(freq)\n",
    "\n",
    "    emb.append(freq)"
   ]
  },
  {
   "cell_type": "code",
   "execution_count": 28,
   "id": "872cf76f",
   "metadata": {},
   "outputs": [
    {
     "data": {
      "text/plain": [
       "[{'and': 0,\n",
       "  'document': 1,\n",
       "  'first': 1,\n",
       "  'is': 1,\n",
       "  'one': 0,\n",
       "  'second': 0,\n",
       "  'the': 1,\n",
       "  'third': 0,\n",
       "  'this': 3},\n",
       " {'and': 0,\n",
       "  'document': 2,\n",
       "  'first': 0,\n",
       "  'is': 1,\n",
       "  'one': 0,\n",
       "  'second': 1,\n",
       "  'the': 1,\n",
       "  'third': 0,\n",
       "  'this': 1},\n",
       " {'and': 1,\n",
       "  'document': 0,\n",
       "  'first': 0,\n",
       "  'is': 1,\n",
       "  'one': 1,\n",
       "  'second': 0,\n",
       "  'the': 1,\n",
       "  'third': 1,\n",
       "  'this': 1},\n",
       " {'and': 0,\n",
       "  'document': 1,\n",
       "  'first': 1,\n",
       "  'is': 1,\n",
       "  'one': 0,\n",
       "  'second': 0,\n",
       "  'the': 1,\n",
       "  'third': 0,\n",
       "  'this': 1}]"
      ]
     },
     "execution_count": 28,
     "metadata": {},
     "output_type": "execute_result"
    }
   ],
   "source": [
    "emb"
   ]
  },
  {
   "cell_type": "code",
   "execution_count": 29,
   "id": "99a46187",
   "metadata": {},
   "outputs": [
    {
     "name": "stdout",
     "output_type": "stream",
     "text": [
      "\n",
      "Bag of Words Embedding:\n",
      "\n",
      "   and  document  first  is  one  second  the  third  this\n",
      "0    0         1      1   1    0       0    1      0     3\n",
      "1    0         2      0   1    0       1    1      0     1\n",
      "2    1         0      0   1    1       0    1      1     1\n",
      "3    0         1      1   1    0       0    1      0     1\n"
     ]
    }
   ],
   "source": [
    "import pandas as pd\n",
    "df = pd.DataFrame(emb)\n",
    "print(\"\\nBag of Words Embedding:\\n\")\n",
    "print(df)\n"
   ]
  }
 ],
 "metadata": {
  "kernelspec": {
   "display_name": "myenv",
   "language": "python",
   "name": "python3"
  },
  "language_info": {
   "codemirror_mode": {
    "name": "ipython",
    "version": 3
   },
   "file_extension": ".py",
   "mimetype": "text/x-python",
   "name": "python",
   "nbconvert_exporter": "python",
   "pygments_lexer": "ipython3",
   "version": "3.12.3"
  }
 },
 "nbformat": 4,
 "nbformat_minor": 5
}
